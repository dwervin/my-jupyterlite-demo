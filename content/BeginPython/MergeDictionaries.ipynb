{
 "cells": [
  {
   "cell_type": "markdown",
   "metadata": {},
   "source": [
    "### Merge Dictionaries in Python 3.5+"
   ]
  },
  {
   "cell_type": "markdown",
   "metadata": {},
   "source": [
    "#### Starting with two dictionaries"
   ]
  },
  {
   "cell_type": "code",
   "execution_count": 6,
   "metadata": {},
   "outputs": [],
   "source": [
    "xs = {'a': 1, 'b': 2}\n",
    "ys = {'b': 3, 'c': 4}"
   ]
  },
  {
   "cell_type": "markdown",
   "metadata": {},
   "source": [
    "#### Merge these dictionaries\n",
    "We can merge the dictionaries using curly braces and the double-asterisk preceeding each variable name.  The double-asterisk preceeding each variable name, **`**`**, is an unpacking operator for dictionaries.  It tells Python to unpack the content of the dictionary variable."
   ]
  },
  {
   "cell_type": "code",
   "execution_count": 9,
   "metadata": {},
   "outputs": [
    {
     "data": {
      "text/plain": [
       "{'a': 1, 'b': 3, 'c': 4}"
      ]
     },
     "execution_count": 9,
     "metadata": {},
     "output_type": "execute_result"
    }
   ],
   "source": [
    "z = {**xs, **ys}\n",
    "z"
   ]
  },
  {
   "cell_type": "markdown",
   "metadata": {},
   "source": [
    "In this example:\n",
    "- Dictionary **xs** is unpacked.\n",
    "- Next, dictionary **ys** is unpacked, overwriting keys that have the same name.\n",
    "- In this example, you can see that key:value **'b':2** was replaced with **'b':3** from **ys**."
   ]
  },
  {
   "cell_type": "markdown",
   "metadata": {},
   "source": [
    "#### References:\n",
    "1. Python Tricks by Dan Bader, https://www.amazon.com/Python-Tricks-Buffet-Awesome-Features/dp/1775093301\n",
    "2. A Shorthand for Merging Dictionaries in Python 3.5+, https://youtu.be/Duexw08KaC8"
   ]
  }
 ],
 "metadata": {
  "kernelspec": {
   "display_name": "Python 3",
   "language": "python",
   "name": "python3"
  },
  "language_info": {
   "codemirror_mode": {
    "name": "ipython",
    "version": 3
   },
   "file_extension": ".py",
   "mimetype": "text/x-python",
   "name": "python",
   "nbconvert_exporter": "python",
   "pygments_lexer": "ipython3",
   "version": "3.7.3"
  }
 },
 "nbformat": 4,
 "nbformat_minor": 2
}
