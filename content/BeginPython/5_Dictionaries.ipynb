{
 "cells": [
  {
   "cell_type": "markdown",
   "metadata": {},
   "source": [
    "## Dictionaries"
   ]
  },
  {
   "cell_type": "markdown",
   "metadata": {},
   "source": [
    "### A dictionary is like a list, but a more general data structure.  It is an unorderd collection of data which is mutable and indexed by a key."
   ]
  },
  {
   "cell_type": "markdown",
   "metadata": {},
   "source": [
    "#### A simple dictionary\n",
    "\n",
    "In Python, a dictionary is wrapped in braces, {}, with a series of key-value pairs inside the braces, as shown in the earlier example:"
   ]
  },
  {
   "cell_type": "code",
   "execution_count": 1,
   "metadata": {},
   "outputs": [],
   "source": [
    "alien_0 = {'color': 'green', 'points': 5}\n",
    "\n"
   ]
  },
  {
   "cell_type": "markdown",
   "metadata": {},
   "source": [
    "#### Reference the data by using the key\n",
    "\n",
    "A key-value pair is a set of values associated with each other. When you provide a key, Python returns the value associated with that key. Every key is connected to its value by a colon, and individual key-value pairs are separated by commas. You can store as many key-value pairs as you want in a dictionary."
   ]
  },
  {
   "cell_type": "code",
   "execution_count": 2,
   "metadata": {},
   "outputs": [
    {
     "name": "stdout",
     "output_type": "stream",
     "text": [
      "green\n",
      "5\n"
     ]
    }
   ],
   "source": [
    "# Using the key named 'color'\n",
    "print(alien_0['color'])\n",
    "\n",
    "# Using the key named 'points'\n",
    "print(alien_0['points'])\n"
   ]
  },
  {
   "cell_type": "markdown",
   "metadata": {},
   "source": [
    "#### Adding New Key-Value Pairs\n",
    "\n",
    "Add a new key-value pair by referring to the name of the dictionary, alien_0 in our case, with the new key in square brackets and assign the value with equals sign."
   ]
  },
  {
   "cell_type": "code",
   "execution_count": 3,
   "metadata": {},
   "outputs": [],
   "source": [
    "alien_0['x_position'] = 0\n",
    "alien_0['y_position'] = 25\n"
   ]
  },
  {
   "cell_type": "markdown",
   "metadata": {},
   "source": [
    "#### Now print dictionary to see that new key-value pairs have been added."
   ]
  },
  {
   "cell_type": "code",
   "execution_count": 4,
   "metadata": {},
   "outputs": [
    {
     "name": "stdout",
     "output_type": "stream",
     "text": [
      "{'color': 'green', 'points': 5, 'x_position': 0, 'y_position': 25}\n"
     ]
    }
   ],
   "source": [
    "print(alien_0)"
   ]
  },
  {
   "cell_type": "markdown",
   "metadata": {},
   "source": [
    "### Start with and empty dictionary\n",
    "\n",
    "Define the empty dictionary by assigning it an empty set of curly braces."
   ]
  },
  {
   "cell_type": "code",
   "execution_count": 5,
   "metadata": {},
   "outputs": [
    {
     "name": "stdout",
     "output_type": "stream",
     "text": [
      "{}\n"
     ]
    }
   ],
   "source": [
    "alien_0 = {}\n",
    "\n",
    "print(alien_0)\n"
   ]
  },
  {
   "cell_type": "markdown",
   "metadata": {},
   "source": [
    "#### now add data to the dictionary"
   ]
  },
  {
   "cell_type": "code",
   "execution_count": 6,
   "metadata": {},
   "outputs": [
    {
     "name": "stdout",
     "output_type": "stream",
     "text": [
      "{'color': 'green', 'points': 5}\n"
     ]
    }
   ],
   "source": [
    "alien_0['color'] = 'green'\n",
    "alien_0['points'] = 5\n",
    "print(alien_0)"
   ]
  },
  {
   "cell_type": "markdown",
   "metadata": {},
   "source": [
    "### Modifying Values in a Dictionary\n"
   ]
  },
  {
   "cell_type": "code",
   "execution_count": 7,
   "metadata": {},
   "outputs": [
    {
     "name": "stdout",
     "output_type": "stream",
     "text": [
      "The alien is green.\n"
     ]
    }
   ],
   "source": [
    "# current color of alien\n",
    "print(\"The alien is \" + alien_0['color'] + \".\")\n"
   ]
  },
  {
   "cell_type": "markdown",
   "metadata": {},
   "source": [
    "#### Now let's update the color of the alien"
   ]
  },
  {
   "cell_type": "code",
   "execution_count": 8,
   "metadata": {},
   "outputs": [
    {
     "name": "stdout",
     "output_type": "stream",
     "text": [
      "The alien is now yellow.\n"
     ]
    }
   ],
   "source": [
    "alien_0['color'] = 'yellow'\n",
    "print(\"The alien is now \" + alien_0['color'] + \".\")\n"
   ]
  },
  {
   "cell_type": "markdown",
   "metadata": {},
   "source": [
    "#### More interesting example\n",
    "\n",
    "Play around with the speed value to see how it changes."
   ]
  },
  {
   "cell_type": "code",
   "execution_count": 9,
   "metadata": {},
   "outputs": [
    {
     "name": "stdout",
     "output_type": "stream",
     "text": [
      "Original x-position: 0\n",
      "New x-position: 2\n"
     ]
    }
   ],
   "source": [
    "alien_0 = {'x_position': 0, 'y_position': 25, 'speed': 'medium'}\n",
    "print(\"Original x-position: \" + str(alien_0['x_position']))\n",
    "\n",
    "# Move the alien to the right.\n",
    "# Determine how far to move the alien based on its current speed.\n",
    "if alien_0['speed'] == 'slow':\n",
    "    x_increment = 1\n",
    "elif alien_0['speed'] == 'medium':\n",
    "    x_increment = 2\n",
    "else:\n",
    "# This must be a fast alien.\n",
    "    x_increment = 3\n",
    "\n",
    "# The new position is the old position plus the increment.\n",
    "alien_0['x_position'] = alien_0['x_position'] + x_increment\n",
    "\n",
    "print(\"New x-position: \" + str(alien_0['x_position']))"
   ]
  },
  {
   "cell_type": "markdown",
   "metadata": {},
   "source": [
    "### Removing Key-Value Pairs\n",
    "To remove a piece of imformation in a dictionary, you can use the **del** statement to completely remove a key-value pair. \n"
   ]
  },
  {
   "cell_type": "code",
   "execution_count": 10,
   "metadata": {},
   "outputs": [
    {
     "name": "stdout",
     "output_type": "stream",
     "text": [
      "{'color': 'green', 'points': 5}\n",
      "{'color': 'green'}\n"
     ]
    }
   ],
   "source": [
    "alien_0 = {'color': 'green', 'points': 5}\n",
    "print(alien_0)\n",
    "\n",
    "del alien_0['points']\n",
    "print(alien_0)\n",
    "    "
   ]
  },
  {
   "cell_type": "markdown",
   "metadata": {},
   "source": [
    "### A Dictionary of Similar Objects\n",
    "The previous example involved storing different kinds of information about one object, an alien in a game. You can also use a dictionary to store one kind of information about many objects. \n"
   ]
  },
  {
   "cell_type": "code",
   "execution_count": 11,
   "metadata": {},
   "outputs": [],
   "source": [
    "favorite_languages = {\n",
    "    'jen': 'python',\n",
    "    'sarah': 'c',\n",
    "    'edward': 'ruby',\n",
    "    'phil': 'python',\n",
    "    }"
   ]
  },
  {
   "cell_type": "code",
   "execution_count": 12,
   "metadata": {},
   "outputs": [
    {
     "name": "stdout",
     "output_type": "stream",
     "text": [
      "{'jen': 'python', 'sarah': 'c', 'edward': 'ruby', 'phil': 'python'}\n"
     ]
    }
   ],
   "source": [
    "print(favorite_languages)"
   ]
  },
  {
   "cell_type": "code",
   "execution_count": 13,
   "metadata": {},
   "outputs": [
    {
     "name": "stdout",
     "output_type": "stream",
     "text": [
      "Sarah's favorite language is C.\n"
     ]
    }
   ],
   "source": [
    "print(\"Sarah's favorite language is \" + favorite_languages['sarah'].title() + \".\")"
   ]
  },
  {
   "cell_type": "markdown",
   "metadata": {},
   "source": [
    "### LOOPING THROUGH A DICTIONARY\n",
    "A single Python dictionary can contain just a few key-value pairs or millions of pairs. Because a dictionary can contain large amounts of data, Python lets you loop through a dictionary.\n"
   ]
  },
  {
   "cell_type": "markdown",
   "metadata": {},
   "source": [
    "#### Looping Through All Key-Value Pairs\n",
    "Before we explore the different approaches to looping, let’s consider a new dictionary designed to store information about a user on a website."
   ]
  },
  {
   "cell_type": "code",
   "execution_count": 14,
   "metadata": {},
   "outputs": [],
   "source": [
    "user_0 = {\n",
    "    'username': 'efermi',\n",
    "    'first': 'enrico',\n",
    "    'last': 'fermi',\n",
    "    }"
   ]
  },
  {
   "cell_type": "code",
   "execution_count": 15,
   "metadata": {},
   "outputs": [
    {
     "name": "stdout",
     "output_type": "stream",
     "text": [
      "\n",
      "Key: username\n",
      "Value: efermi\n",
      "\n",
      "Key: first\n",
      "Value: enrico\n",
      "\n",
      "Key: last\n",
      "Value: fermi\n"
     ]
    }
   ],
   "source": [
    "# items() method for dictionary returns all key value pairs.\n",
    "# We iterate through these items and print.\n",
    "for key, value in user_0.items():\n",
    "    print(\"\\nKey: \" + key)\n",
    "    print(\"Value: \" + value)"
   ]
  },
  {
   "cell_type": "code",
   "execution_count": 16,
   "metadata": {},
   "outputs": [
    {
     "data": {
      "text/plain": [
       "dict_items"
      ]
     },
     "execution_count": 16,
     "metadata": {},
     "output_type": "execute_result"
    }
   ],
   "source": [
    "type(user_0.items())"
   ]
  },
  {
   "cell_type": "markdown",
   "metadata": {},
   "source": [
    "#### Another Example\n"
   ]
  },
  {
   "cell_type": "code",
   "execution_count": 17,
   "metadata": {
    "scrolled": true
   },
   "outputs": [
    {
     "name": "stdout",
     "output_type": "stream",
     "text": [
      "Jen's favorite language is Python.\n",
      "Sarah's favorite language is C.\n",
      "Edward's favorite language is Ruby.\n",
      "Phil's favorite language is Python.\n"
     ]
    }
   ],
   "source": [
    "favorite_languages = {\n",
    "       'jen': 'python',\n",
    "       'sarah': 'c',\n",
    "       'edward': 'ruby',\n",
    "       'phil': 'python',\n",
    "       }\n",
    "\n",
    "for name, language in favorite_languages.items():\n",
    "    print(name.title() + \"'s favorite language is \" +\n",
    "          language.title() + \".\")\n"
   ]
  },
  {
   "cell_type": "markdown",
   "metadata": {},
   "source": [
    "#### Looping Through All the Keys in a Dictionary\n",
    "The keys() method is useful when you don’t need to work with all of the values in a dictionary.\n"
   ]
  },
  {
   "cell_type": "code",
   "execution_count": 18,
   "metadata": {},
   "outputs": [
    {
     "name": "stdout",
     "output_type": "stream",
     "text": [
      "Jen\n",
      "Sarah\n",
      "Edward\n",
      "Phil\n"
     ]
    }
   ],
   "source": [
    "favorite_languages = {\n",
    "       'jen': 'python',\n",
    "       'sarah': 'c',\n",
    "       'edward': 'ruby',\n",
    "       'phil': 'python',\n",
    "       }\n",
    "\n",
    "# Just the keys this time\n",
    "for name in favorite_languages.keys():\n",
    "       print(name.title())\n",
    "        "
   ]
  },
  {
   "cell_type": "markdown",
   "metadata": {},
   "source": [
    "Looping through the keys is actually the default behavior when looping through a dictionary, so this code would have exactly the same output if you wrote ...\n",
    "\n"
   ]
  },
  {
   "cell_type": "code",
   "execution_count": 19,
   "metadata": {},
   "outputs": [
    {
     "name": "stdout",
     "output_type": "stream",
     "text": [
      "jen\n",
      "sarah\n",
      "edward\n",
      "phil\n"
     ]
    }
   ],
   "source": [
    "for name in favorite_languages:\n",
    "    print(name)\n",
    "    "
   ]
  },
  {
   "cell_type": "markdown",
   "metadata": {},
   "source": [
    "#### Using a variable to reference a key"
   ]
  },
  {
   "cell_type": "code",
   "execution_count": 20,
   "metadata": {
    "scrolled": true
   },
   "outputs": [
    {
     "name": "stdout",
     "output_type": "stream",
     "text": [
      "Jen\n",
      "Sarah\n",
      " Hi Sarah, I see your favorite language is C!\n",
      "Edward\n",
      "Phil\n",
      " Hi Phil, I see your favorite language is Python!\n"
     ]
    }
   ],
   "source": [
    "friends = ['phil', 'sarah']\n",
    "for name in favorite_languages.keys():\n",
    "    print(name.title())\n",
    "\n",
    "    if name in friends:\n",
    "        print(\" Hi \" + name.title() + \n",
    "              \", I see your favorite language is \" +\n",
    "              favorite_languages[name].title() + \"!\") #Uses a variable for the key"
   ]
  },
  {
   "cell_type": "markdown",
   "metadata": {},
   "source": [
    "#### You can also use the keys() method to find out if a particular person was polled. This time, let’s find out if Erin took the poll:"
   ]
  },
  {
   "cell_type": "code",
   "execution_count": 21,
   "metadata": {},
   "outputs": [
    {
     "name": "stdout",
     "output_type": "stream",
     "text": [
      "Erin, please take our poll!\n"
     ]
    }
   ],
   "source": [
    "favorite_languages = {\n",
    "       'jen': 'python',\n",
    "       'sarah': 'c',\n",
    "       'edward': 'ruby',\n",
    "       'phil': 'python',\n",
    "       }\n",
    "\n",
    "if 'erin' not in favorite_languages.keys():\n",
    "    print(\"Erin, please take our poll!\")"
   ]
  },
  {
   "cell_type": "markdown",
   "metadata": {},
   "source": [
    "#### Looping Through a Dictionary’s Keys in Order"
   ]
  },
  {
   "cell_type": "code",
   "execution_count": 22,
   "metadata": {},
   "outputs": [
    {
     "name": "stdout",
     "output_type": "stream",
     "text": [
      "Edward, thank you for taking the poll.\n",
      "Jen, thank you for taking the poll.\n",
      "Phil, thank you for taking the poll.\n",
      "Sarah, thank you for taking the poll.\n"
     ]
    }
   ],
   "source": [
    "favorite_languages = {\n",
    "    'jen': 'python',\n",
    "    'sarah': 'c',\n",
    "    'edward': 'ruby',\n",
    "    'phil': 'python',\n",
    "    }\n",
    "\n",
    "# Use sorted() function around the keys() method to sort the keys\n",
    "for name in sorted(favorite_languages.keys()):\n",
    "    print(name.title() + \", thank you for taking the poll.\")"
   ]
  },
  {
   "cell_type": "markdown",
   "metadata": {},
   "source": [
    "#### Looping Through All Values in a Dictionary\n",
    "If you are primarily interested in the values that a dictionary contains, you can use the **values()** method to return a list of values without any keys."
   ]
  },
  {
   "cell_type": "code",
   "execution_count": 23,
   "metadata": {},
   "outputs": [
    {
     "name": "stdout",
     "output_type": "stream",
     "text": [
      "The following languages have been mentioned:\n",
      "Python\n",
      "C\n",
      "Ruby\n",
      "Python\n"
     ]
    }
   ],
   "source": [
    "favorite_languages = {\n",
    "    'jen': 'python',\n",
    "    'sarah': 'c',\n",
    "    'edward': 'ruby',\n",
    "    'phil': 'python',\n",
    "    }\n",
    "\n",
    "# use values() mathod to get and print only the values in the dictionary\n",
    "print(\"The following languages have been mentioned:\")\n",
    "for language in favorite_languages.values():\n",
    "    print(language.title())"
   ]
  },
  {
   "cell_type": "markdown",
   "metadata": {},
   "source": [
    "#### But, what if we only wanted unique values?\n",
    "\n",
    "For this we can use the **set()** function to create the set of unique values from the dictionary."
   ]
  },
  {
   "cell_type": "code",
   "execution_count": 24,
   "metadata": {},
   "outputs": [
    {
     "name": "stdout",
     "output_type": "stream",
     "text": [
      "The following languages have been mentioned:\n",
      "Python\n",
      "C\n",
      "Ruby\n"
     ]
    }
   ],
   "source": [
    "favorite_languages = {\n",
    "       'jen': 'python',\n",
    "       'sarah': 'c',\n",
    "       'edward': 'ruby',\n",
    "       'phil': 'python',\n",
    "       }\n",
    "\n",
    "print(\"The following languages have been mentioned:\")\n",
    "for language in set(favorite_languages.values()):\n",
    "    print(language.title())"
   ]
  },
  {
   "cell_type": "markdown",
   "metadata": {},
   "source": [
    "### Nesting"
   ]
  },
  {
   "cell_type": "markdown",
   "metadata": {},
   "source": [
    "#### A List of Dictionaries\n",
    "The alien_0 dictionary contains a variety of information about one alien, but it has no room to store information about a second alien, much less a screen full of aliens. How can you manage a fleet of aliens? "
   ]
  },
  {
   "cell_type": "code",
   "execution_count": 25,
   "metadata": {},
   "outputs": [
    {
     "name": "stdout",
     "output_type": "stream",
     "text": [
      "{'color': 'green', 'points': 5}\n",
      "{'color': 'yellow', 'points': 10}\n",
      "{'color': 'red', 'points': 15}\n"
     ]
    }
   ],
   "source": [
    "alien_0 = {'color': 'green', 'points': 5}\n",
    "alien_1 = {'color': 'yellow', 'points': 10}\n",
    "alien_2 = {'color': 'red', 'points': 15}\n",
    "\n",
    "aliens = [alien_0, alien_1, alien_2]\n",
    "\n",
    "for alien in aliens:\n",
    "    print(alien)\n",
    "    "
   ]
  },
  {
   "cell_type": "code",
   "execution_count": 26,
   "metadata": {
    "scrolled": true
   },
   "outputs": [
    {
     "data": {
      "text/plain": [
       "[{'color': 'green', 'points': 5},\n",
       " {'color': 'yellow', 'points': 10},\n",
       " {'color': 'red', 'points': 15}]"
      ]
     },
     "execution_count": 26,
     "metadata": {},
     "output_type": "execute_result"
    }
   ],
   "source": [
    "aliens\n",
    "#type(aliens)\n",
    "#type(aliens[0])"
   ]
  },
  {
   "cell_type": "markdown",
   "metadata": {},
   "source": [
    "#### Make a List of Aliens"
   ]
  },
  {
   "cell_type": "code",
   "execution_count": 27,
   "metadata": {},
   "outputs": [
    {
     "name": "stdout",
     "output_type": "stream",
     "text": [
      "{'color': 'green', 'points': 5, 'speed': 'slow'}\n",
      "...\n",
      "{'color': 'green', 'points': 5, 'speed': 'slow'}\n",
      "...\n",
      "{'color': 'green', 'points': 5, 'speed': 'slow'}\n",
      "...\n",
      "{'color': 'green', 'points': 5, 'speed': 'slow'}\n",
      "...\n",
      "{'color': 'green', 'points': 5, 'speed': 'slow'}\n",
      "...\n",
      "Total number of aliens: 30\n"
     ]
    }
   ],
   "source": [
    "# Make an empty list for storing aliens.\n",
    "aliens = []\n",
    "    \n",
    "# Make 30 green aliens.\n",
    "for alien_number in range(30):\n",
    "    new_alien = {'color': 'green', 'points': 5, 'speed': 'slow'}\n",
    "    aliens.append(new_alien)\n",
    "\n",
    "# Show the first 5 aliens.\n",
    "for alien in aliens[:5]:\n",
    "    print(alien)\n",
    "    print(\"...\")\n",
    "\n",
    "# Show how many aliens have been created.\n",
    "print(\"Total number of aliens: \" + str(len(aliens)))"
   ]
  },
  {
   "cell_type": "markdown",
   "metadata": {},
   "source": [
    "#### Working with the list of alien dictionaries"
   ]
  },
  {
   "cell_type": "code",
   "execution_count": 28,
   "metadata": {},
   "outputs": [
    {
     "name": "stdout",
     "output_type": "stream",
     "text": [
      "{'color': 'yellow', 'points': 10, 'speed': 'medium'}\n",
      "{'color': 'yellow', 'points': 10, 'speed': 'medium'}\n",
      "{'color': 'yellow', 'points': 10, 'speed': 'medium'}\n",
      "{'color': 'green', 'points': 5, 'speed': 'slow'}\n",
      "{'color': 'green', 'points': 5, 'speed': 'slow'}\n",
      "...\n"
     ]
    }
   ],
   "source": [
    "# Make an empty list for storing aliens.\n",
    "aliens = []\n",
    "\n",
    "# Make 30 green aliens.\n",
    "for alien_number in range (0,30):\n",
    "    new_alien = {'color': 'green', 'points': 5, 'speed': 'slow'}\n",
    "    aliens.append(new_alien)\n",
    "\n",
    "# Change the color of first 3 aliens\n",
    "for alien in aliens[0:3]:\n",
    "    if alien['color'] == 'green':\n",
    "        alien['color'] = 'yellow'\n",
    "        alien['speed'] = 'medium'\n",
    "        alien['points'] = 10\n",
    "\n",
    "# Show the first 5 aliens.\n",
    "for alien in aliens[0:5]:\n",
    "    print(alien)\n",
    "print(\"...\")"
   ]
  },
  {
   "cell_type": "markdown",
   "metadata": {},
   "source": [
    "#### A List in a Dictionary\n",
    "Rather than putting a dictionary inside a list, it’s sometimes useful to put a list inside a dictionary."
   ]
  },
  {
   "cell_type": "code",
   "execution_count": 29,
   "metadata": {},
   "outputs": [
    {
     "name": "stdout",
     "output_type": "stream",
     "text": [
      "You ordered a thick-crust pizza with the following toppings:\n",
      "\tmushrooms\n",
      "\textra cheese\n"
     ]
    }
   ],
   "source": [
    "# Store information about a pizza being ordered.\n",
    "pizza = {\n",
    "    'crust': 'thick',\n",
    "    'toppings': ['mushrooms', 'extra cheese'], }\n",
    "# Summarize the order.\n",
    "print(\"You ordered a \" + pizza['crust'] + \"-crust pizza \" +\n",
    "       \"with the following toppings:\")\n",
    "\n",
    "# Iterate through the list found in the value part \n",
    "# of this key-value pair\n",
    "for topping in pizza['toppings']:\n",
    "    print(\"\\t\" + topping)\n",
    "        "
   ]
  },
  {
   "cell_type": "markdown",
   "metadata": {},
   "source": [
    "#### You can nest a list inside a dictionary any time you want more than one value to be associated with a single key in a dictionary."
   ]
  },
  {
   "cell_type": "code",
   "execution_count": 30,
   "metadata": {},
   "outputs": [
    {
     "name": "stdout",
     "output_type": "stream",
     "text": [
      "\n",
      "Jen's favorite languages are:\n",
      "\tPython\n",
      "\tRuby\n",
      "\n",
      "Sarah's favorite languages are:\n",
      "\tC\n",
      "\n",
      "Edward's favorite languages are:\n",
      "\tRuby\n",
      "\tGo\n",
      "\n",
      "Phil's favorite languages are:\n",
      "\tPython\n",
      "\tHaskell\n"
     ]
    }
   ],
   "source": [
    "favorite_languages = {\n",
    "    'jen': ['python', 'ruby'],\n",
    "    'sarah': ['c'],\n",
    "    'edward': ['ruby', 'go'],\n",
    "    'phil': ['python', 'haskell'],\n",
    "}\n",
    "\n",
    "for name, languages in favorite_languages.items():\n",
    "    print(\"\\n\" + name.title() + \"'s favorite languages are:\")\n",
    "    for language in languages:\n",
    "        print(\"\\t\" + language.title())\n"
   ]
  },
  {
   "cell_type": "markdown",
   "metadata": {},
   "source": [
    "### A Dictionary in a Dictionary\n",
    "\n",
    "You can nest a dictionary inside another dictionary, but your code can get complicated quickly when you do. For example, if you have several users for a website, each with a unique username, you can use the usernames as the keys in a dictionary."
   ]
  },
  {
   "cell_type": "code",
   "execution_count": 31,
   "metadata": {},
   "outputs": [],
   "source": [
    "users = {\n",
    "    'aeinstein': {\n",
    "        'first': 'albert',\n",
    "        'last': 'einstein',\n",
    "        'location': 'princeton',\n",
    "        },\n",
    "    'mcurie': {\n",
    "        'first': 'marie',\n",
    "        'last': 'curie',\n",
    "        'location': 'paris',\n",
    "        },\n",
    "    }"
   ]
  },
  {
   "cell_type": "code",
   "execution_count": null,
   "metadata": {},
   "outputs": [],
   "source": []
  },
  {
   "cell_type": "code",
   "execution_count": null,
   "metadata": {},
   "outputs": [],
   "source": []
  },
  {
   "cell_type": "code",
   "execution_count": null,
   "metadata": {},
   "outputs": [],
   "source": []
  },
  {
   "cell_type": "code",
   "execution_count": null,
   "metadata": {},
   "outputs": [],
   "source": []
  },
  {
   "cell_type": "code",
   "execution_count": null,
   "metadata": {},
   "outputs": [],
   "source": []
  }
 ],
 "metadata": {
  "kernelspec": {
   "display_name": "Python 3",
   "language": "python",
   "name": "python3"
  },
  "language_info": {
   "codemirror_mode": {
    "name": "ipython",
    "version": 3
   },
   "file_extension": ".py",
   "mimetype": "text/x-python",
   "name": "python",
   "nbconvert_exporter": "python",
   "pygments_lexer": "ipython3",
   "version": "3.8.5"
  }
 },
 "nbformat": 4,
 "nbformat_minor": 4
}
